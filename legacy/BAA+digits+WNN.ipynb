{
 "cells": [
  {
   "cell_type": "code",
   "execution_count": 1,
   "metadata": {},
   "outputs": [],
   "source": [
    "#import sys\n",
    "#sys.path.append('../../qclib/machine_learning/')\n",
    "\n",
    "import numpy as np\n",
    "import matplotlib.pyplot as plt\n",
    "import pandas as pd\n",
    "\n",
    "from qiskit import Aer, QuantumCircuit, ClassicalRegister, QuantumRegister\n",
    "from qiskit.opflow import Z, I, StateFn, PauliSumOp, AerPauliExpectation, ListOp, Gradient, PauliExpectation\n",
    "from qiskit.utils import QuantumInstance, algorithm_globals\n",
    "from qiskit.circuit import Parameter\n",
    "from qiskit.circuit.library import  ZZFeatureMap, MCMT, RYGate, RealAmplitudes, TwoLocal, ZZFeatureMap\n",
    "from qiskit.algorithms.optimizers import COBYLA, L_BFGS_B,SPSA\n",
    "from qiskit.circuit.library.standard_gates import HGate\n",
    "\n",
    "from qiskit_machine_learning.neural_networks import TwoLayerQNN, CircuitQNN, OpflowQNN\n",
    "from qiskit_machine_learning.algorithms.classifiers import NeuralNetworkClassifier, VQC\n",
    "from qiskit_machine_learning.algorithms.regressors import NeuralNetworkRegressor, VQR\n",
    "\n",
    "from typing import Union\n",
    "\n",
    "from qiskit_machine_learning.exceptions import QiskitMachineLearningError\n",
    "\n",
    "from IPython.display import clear_output\n",
    "\n",
    "from sklearn.model_selection import train_test_split\n",
    "from sklearn.datasets import load_digits\n",
    "\n",
    "seed = 42\n",
    "algorithm_globals.random_seed = 42\n",
    "\n",
    "\n",
    "from auxData import Load_Data, Load_DataFull, plot_sampled_data_sepal, plot_predicted\n",
    "from auxQuantum import FeatureMap, Neuron, TTN, FeatureMapFull, WeightlessNN\n",
    "from feature_vector import FeatureVector\n",
    "from qclib.state_preparation import BaaLowRankInitialize\n",
    "from qclib.machine_learning.datasets import digits"
   ]
  },
  {
   "cell_type": "code",
   "execution_count": 2,
   "metadata": {},
   "outputs": [],
   "source": [
    "quantum_instance = QuantumInstance(Aer.get_backend(\"aer_simulator\"), shots=1024)"
   ]
  },
  {
   "cell_type": "code",
   "execution_count": 3,
   "metadata": {},
   "outputs": [],
   "source": [
    "# callback function that draws a live plot when the .fit() method is called\n",
    "weigth_history = []\n",
    "def callback_graph(weights, obj_func_eval):\n",
    "    clear_output(wait=True)\n",
    "    weigth_history.append(weights)\n",
    "    objective_func_vals.append(obj_func_eval)\n",
    "    plt.title(\"Objective function value against iteration\")\n",
    "    plt.xlabel(\"Iteration\")\n",
    "    plt.ylabel(\"Objective function value\")\n",
    "    plt.plot(range(len(objective_func_vals)), objective_func_vals)\n",
    "    plt.show()"
   ]
  },
  {
   "cell_type": "markdown",
   "metadata": {},
   "source": [
    "# DATASET"
   ]
  },
  {
   "cell_type": "code",
   "execution_count": 4,
   "metadata": {},
   "outputs": [],
   "source": [
    "import numpy as np\n",
    "from sklearn import datasets\n",
    "\n",
    "from sklearn.preprocessing import StandardScaler, MinMaxScaler\n",
    "\n",
    "X, Y = load_digits( n_class=2, return_X_y=True)\n",
    "X = np.array(X[:100])\n",
    "Y = np.array(Y[:100])\n",
    "\n",
    "# Randomly shuffle data and labels \n",
    "rnd = np.random.RandomState(42)\n",
    "idx = rnd.permutation(len(Y))\n",
    "X, Y = X[idx], Y[idx]\n",
    "\n",
    "# Scale to the range (0, +1)\n",
    "y01 = (Y - min(Y))\n",
    "y01 = y01 // max(y01)\n",
    "\n",
    "# Scale to the range (-1, +1)\n",
    "minmax_scale = MinMaxScaler((-1, 1)).fit(X)\n",
    "X = minmax_scale.transform(X)\n",
    "y = 2 * y01 -1\n",
    "\n",
    "# one-hot label\n",
    "num_samples = len(X)\n",
    "y_one_hot = np.zeros((num_samples, 2))\n",
    "for i in range(num_samples):\n",
    "    y_one_hot[i, y01[i]] = 1\n",
    "\n",
    "num_inputs = len(X[0])\n",
    "n_qubits = int(np.log2(num_inputs))"
   ]
  },
  {
   "cell_type": "code",
   "execution_count": 5,
   "metadata": {},
   "outputs": [
    {
     "data": {
      "text/plain": [
       "6"
      ]
     },
     "execution_count": 5,
     "metadata": {},
     "output_type": "execute_result"
    }
   ],
   "source": [
    "n_qubits"
   ]
  },
  {
   "cell_type": "markdown",
   "metadata": {},
   "source": [
    "# WNN"
   ]
  },
  {
   "cell_type": "code",
   "execution_count": 6,
   "metadata": {},
   "outputs": [],
   "source": [
    "def WeightlessNN9qubits():\n",
    "    qr = QuantumRegister(9)\n",
    "    qc = QuantumCircuit(qr)\n",
    "    qc.append(Neuron(\"p1\", \"p2\", \"p3\", \"p4\"), [0,1,6])\n",
    "    qc.append(Neuron(\"q1\", \"q2\", \"q3\", \"q4\"), [2,3,7])\n",
    "    qc.append(Neuron(\"r1\", \"r2\", \"r3\", \"r4\"), [4,5,8])\n",
    "    qc.reset(1)\n",
    "    qc.append(Neuron(\"pq1\", \"pq2\", \"pq3\", \"pq4\"), [6,7,1])\n",
    "    qc.reset(0)\n",
    "    qc.append(Neuron(\"pqr1\", \"pqr2\", \"pqr3\", \"pqr4\"), [1,8,0])\n",
    "    return qc\n",
    "\n",
    "def WeightlessNN11qubits():\n",
    "    qr = QuantumRegister(11)\n",
    "    qc = QuantumCircuit(qr)\n",
    "    qc.append(Neuron(\"p1\", \"p2\", \"p3\", \"p4\"), [0,1,6])\n",
    "    qc.append(Neuron(\"q1\", \"q2\", \"q3\", \"q4\"), [2,3,7])\n",
    "    qc.append(Neuron(\"r1\", \"r2\", \"r3\", \"r4\"), [4,5,8])\n",
    "    qc.append(Neuron(\"pq1\", \"pq2\", \"pq3\", \"pq4\"), [6,7,9])\n",
    "    qc.append(Neuron(\"pqr1\", \"pqr2\", \"pqr3\", \"pqr4\"), [8,9,10])\n",
    "    return qc\n"
   ]
  },
  {
   "cell_type": "markdown",
   "metadata": {},
   "source": [
    "# TRAINING"
   ]
  },
  {
   "cell_type": "code",
   "execution_count": 7,
   "metadata": {},
   "outputs": [
    {
     "data": {
      "image/png": "[encoded data removed]",
      "text/plain": [
       "<Figure size 1617.41x1408.68 with 1 Axes>"
      ]
     },
     "execution_count": 7,
     "metadata": {},
     "output_type": "execute_result"
    }
   ],
   "source": [
    "# construct feature map\n",
    "#feature_map = ZZFeatureMap(num_inputs)\n",
    "max_F_loss = 0\n",
    "feature_map = FeatureVector(n_qubits, num_inputs, BaaLowRankInitialize, opt_params=None)\n",
    "# construct ansatz\n",
    "#ansatz = RealAmplitudes(feature_map.num_qubits, reps=2)\n",
    "#ansatz = TwoLocal(feature_map.num_qubits, ['ry','rz'], 'cx', 'full', reps=2)\n",
    "ansatz = WeightlessNN11qubits()\n",
    "\n",
    "# construct variational quantum classifier\n",
    "'''\n",
    "vqc = VQC(\n",
    "    feature_map=feature_map,\n",
    "    ansatz=ansatz,\n",
    "    loss=\"cross_entropy\",\n",
    "    optimizer=COBYLA(),\n",
    "    quantum_instance=quantum_instance,\n",
    "    callback=callback_graph,\n",
    ")\n",
    "'''\n",
    "\n",
    "#vqc = Neura\n",
    "\n",
    "#feature_map.draw('mpl')\n",
    "ansatz.decompose().draw('mpl')"
   ]
  },
  {
   "cell_type": "code",
   "execution_count": 8,
   "metadata": {},
   "outputs": [
    {
     "data": {
      "image/png": "[encoded data removed]",
      "text/plain": [
       "<Figure size 1135.96x686.28 with 1 Axes>"
      ]
     },
     "execution_count": 8,
     "metadata": {},
     "output_type": "execute_result"
    }
   ],
   "source": [
    "\n",
    "hamiltonian = Z ^ I ^ I ^ I ^ I ^ I ^ I ^ I ^ I ^ I ^ I\n",
    "#hamiltonian = I ^ I ^ I ^ I ^ I ^ Z\n",
    "qr = QuantumRegister(11)\n",
    "qc = QuantumCircuit(qr)\n",
    "qc.append(feature_map, [0,1,2,3,4,5])\n",
    "qc.append(ansatz, [0,1,2,3,4,5,6,7,8,9,10])\n",
    "qc.draw('mpl')"
   ]
  },
  {
   "cell_type": "code",
   "execution_count": 9,
   "metadata": {},
   "outputs": [
    {
     "name": "stderr",
     "output_type": "stream",
     "text": [
      "Cannot compute gradient operator! Continuing without gradients!\n"
     ]
    }
   ],
   "source": [
    "quantum_instance = QuantumInstance(Aer.get_backend(\"aer_simulator\"), shots=1024)\n",
    "qnn_expectation = StateFn(hamiltonian, is_measurement=True) @ StateFn(qc)\n",
    "qnn = OpflowQNN(qnn_expectation, \n",
    "                input_params=list(feature_map.parameters), \n",
    "                weight_params=list(ansatz.parameters),\n",
    "                exp_val=PauliExpectation(),\n",
    "                gradient=Gradient(),  \n",
    "                quantum_instance=quantum_instance)"
   ]
  },
  {
   "cell_type": "code",
   "execution_count": 10,
   "metadata": {},
   "outputs": [
    {
     "data": {
      "text/plain": [
       "ParameterView([ParameterVectorElement(x[0]), ParameterVectorElement(x[1]), ParameterVectorElement(x[2]), ParameterVectorElement(x[3]), ParameterVectorElement(x[4]), ParameterVectorElement(x[5]), ParameterVectorElement(x[6]), ParameterVectorElement(x[7]), ParameterVectorElement(x[8]), ParameterVectorElement(x[9]), ParameterVectorElement(x[10]), ParameterVectorElement(x[11]), ParameterVectorElement(x[12]), ParameterVectorElement(x[13]), ParameterVectorElement(x[14]), ParameterVectorElement(x[15]), ParameterVectorElement(x[16]), ParameterVectorElement(x[17]), ParameterVectorElement(x[18]), ParameterVectorElement(x[19]), ParameterVectorElement(x[20]), ParameterVectorElement(x[21]), ParameterVectorElement(x[22]), ParameterVectorElement(x[23]), ParameterVectorElement(x[24]), ParameterVectorElement(x[25]), ParameterVectorElement(x[26]), ParameterVectorElement(x[27]), ParameterVectorElement(x[28]), ParameterVectorElement(x[29]), ParameterVectorElement(x[30]), ParameterVectorElement(x[31]), ParameterVectorElement(x[32]), ParameterVectorElement(x[33]), ParameterVectorElement(x[34]), ParameterVectorElement(x[35]), ParameterVectorElement(x[36]), ParameterVectorElement(x[37]), ParameterVectorElement(x[38]), ParameterVectorElement(x[39]), ParameterVectorElement(x[40]), ParameterVectorElement(x[41]), ParameterVectorElement(x[42]), ParameterVectorElement(x[43]), ParameterVectorElement(x[44]), ParameterVectorElement(x[45]), ParameterVectorElement(x[46]), ParameterVectorElement(x[47]), ParameterVectorElement(x[48]), ParameterVectorElement(x[49]), ParameterVectorElement(x[50]), ParameterVectorElement(x[51]), ParameterVectorElement(x[52]), ParameterVectorElement(x[53]), ParameterVectorElement(x[54]), ParameterVectorElement(x[55]), ParameterVectorElement(x[56]), ParameterVectorElement(x[57]), ParameterVectorElement(x[58]), ParameterVectorElement(x[59]), ParameterVectorElement(x[60]), ParameterVectorElement(x[61]), ParameterVectorElement(x[62]), ParameterVectorElement(x[63])])"
      ]
     },
     "execution_count": 10,
     "metadata": {},
     "output_type": "execute_result"
    }
   ],
   "source": [
    "feature_map.parameters"
   ]
  },
  {
   "cell_type": "code",
   "execution_count": 11,
   "metadata": {},
   "outputs": [
    {
     "data": {
      "text/plain": [
       "[Parameter(p1),\n",
       " Parameter(p2),\n",
       " Parameter(p3),\n",
       " Parameter(p4),\n",
       " Parameter(pq1),\n",
       " Parameter(pq2),\n",
       " Parameter(pq3),\n",
       " Parameter(pq4),\n",
       " Parameter(pqr1),\n",
       " Parameter(pqr2),\n",
       " Parameter(pqr3),\n",
       " Parameter(pqr4),\n",
       " Parameter(q1),\n",
       " Parameter(q2),\n",
       " Parameter(q3),\n",
       " Parameter(q4),\n",
       " Parameter(r1),\n",
       " Parameter(r2),\n",
       " Parameter(r3),\n",
       " Parameter(r4)]"
      ]
     },
     "execution_count": 11,
     "metadata": {},
     "output_type": "execute_result"
    }
   ],
   "source": [
    "list(ansatz.parameters)"
   ]
  },
  {
   "cell_type": "code",
   "execution_count": 12,
   "metadata": {
    "scrolled": false
   },
   "outputs": [
    {
     "data": {
      "image/png": "[encoded data removed]",
      "text/plain": [
       "<Figure size 864x432 with 1 Axes>"
      ]
     },
     "metadata": {
      "needs_background": "light"
     },
     "output_type": "display_data"
    },
    {
     "data": {
      "text/plain": [
       "0.51"
      ]
     },
     "execution_count": 12,
     "metadata": {},
     "output_type": "execute_result"
    }
   ],
   "source": [
    "opflow_classifier = NeuralNetworkClassifier(qnn, optimizer=SPSA(maxiter=10), callback=callback_graph)\n",
    "# create empty array for callback to store evaluations of the objective function\n",
    "objective_func_vals = []\n",
    "weigth_history = []\n",
    "plt.rcParams[\"figure.figsize\"] = (12, 6)\n",
    "\n",
    "# fit classifier to data\n",
    "opflow_classifier.fit(X, y)\n",
    "\n",
    "# return to default figsize\n",
    "plt.rcParams[\"figure.figsize\"] = (6, 4)\n",
    "\n",
    "\n",
    "\n",
    "# score classifier\n",
    "opflow_classifier.score(X, y)"
   ]
  },
  {
   "cell_type": "code",
   "execution_count": 13,
   "metadata": {},
   "outputs": [],
   "source": [
    "pred_y = opflow_classifier.predict(X)"
   ]
  },
  {
   "cell_type": "code",
   "execution_count": 22,
   "metadata": {},
   "outputs": [
    {
     "data": {
      "text/plain": [
       "array([ 1.,  1.,  1.,  1.,  1.,  1.,  1.,  1.,  1.,  1.,  1.,  1.,  1.,\n",
       "        1.,  1.,  1.,  1.,  1.,  1.,  1.,  1.,  1.,  1.,  1.,  1.,  1.,\n",
       "        1.,  1.,  1.,  1.,  1.,  1.,  1., -1.,  1., -1.,  1.,  1.,  1.,\n",
       "        1.,  1.,  1.,  1.,  1.,  1.,  1.,  1.,  1.,  1.,  1.,  1.,  1.,\n",
       "        1.,  1.,  1.,  1.,  1.,  1.,  1.,  1.,  1.,  1.,  1., -1.,  1.,\n",
       "        1.,  1.,  1.,  1.,  1.,  1.,  1.,  1.,  1.,  1.,  1.,  1.,  1.,\n",
       "        1.,  1., -1.,  1.,  1.,  1.,  1.,  1.,  1.,  1.,  1.,  1., -1.,\n",
       "        1.,  1.,  1.,  1.,  1.,  1.,  1.,  1.,  1.])"
      ]
     },
     "execution_count": 22,
     "metadata": {},
     "output_type": "execute_result"
    }
   ],
   "source": [
    "pred_y.reshape(100,)"
   ]
  },
  {
   "cell_type": "code",
   "execution_count": 15,
   "metadata": {},
   "outputs": [
    {
     "data": {
      "text/plain": [
       "[array([ 0.57395605,  0.63887844,  0.65859792,  0.49736803, -0.10582265,\n",
       "         1.17562235,  0.9611397 ,  0.98606431,  0.32811363,  0.25038594,\n",
       "         0.17079802,  0.72676499,  0.84386512,  1.02276161,  0.6434142 ,\n",
       "         0.42723872,  0.75458479,  0.26381726,  1.02763117,  0.4316644 ]),\n",
       " array([ 0.97395605,  0.23887844,  1.05859792,  0.89736803,  0.29417735,\n",
       "         0.77562235,  0.5611397 ,  0.58606431, -0.07188637,  0.65038594,\n",
       "         0.57079802,  1.12676499,  0.44386512,  0.62276161,  0.2434142 ,\n",
       "         0.02723872,  0.35458479, -0.13618274,  0.62763117,  0.8316644 ]),\n",
       " array([ 0.97395605,  0.23887844,  0.65859792,  0.89736803, -0.10582265,\n",
       "         0.77562235,  0.9611397 ,  0.98606431, -0.07188637,  0.65038594,\n",
       "         0.57079802,  1.12676499,  0.44386512,  0.62276161,  0.2434142 ,\n",
       "         0.02723872,  0.75458479, -0.13618274,  1.02763117,  0.8316644 ]),\n",
       " array([0.57395605, 0.63887844, 1.05859792, 0.49736803, 0.29417735,\n",
       "        1.17562235, 0.5611397 , 0.58606431, 0.32811363, 0.25038594,\n",
       "        0.17079802, 0.72676499, 0.84386512, 1.02276161, 0.6434142 ,\n",
       "        0.42723872, 0.35458479, 0.26381726, 0.62763117, 0.4316644 ]),\n",
       " array([ 0.57395605,  0.63887844,  0.65859792,  0.49736803, -0.10582265,\n",
       "         0.77562235,  0.5611397 ,  0.98606431,  0.32811363,  0.65038594,\n",
       "         0.57079802,  1.12676499,  0.44386512,  1.02276161,  0.6434142 ,\n",
       "         0.42723872,  0.75458479, -0.13618274,  0.62763117,  0.4316644 ]),\n",
       " array([ 0.97395605,  0.23887844,  1.05859792,  0.89736803,  0.29417735,\n",
       "         1.17562235,  0.9611397 ,  0.58606431, -0.07188637,  0.25038594,\n",
       "         0.17079802,  0.72676499,  0.84386512,  0.62276161,  0.2434142 ,\n",
       "         0.02723872,  0.35458479,  0.26381726,  1.02763117,  0.8316644 ]),\n",
       " array([0.57395605, 0.63887844, 0.65859792, 0.89736803, 0.29417735,\n",
       "        1.17562235, 0.5611397 , 0.98606431, 0.32811363, 0.25038594,\n",
       "        0.57079802, 0.72676499, 0.84386512, 1.02276161, 0.6434142 ,\n",
       "        0.02723872, 0.75458479, 0.26381726, 1.02763117, 0.4316644 ]),\n",
       " array([ 0.97395605,  0.23887844,  1.05859792,  0.49736803, -0.10582265,\n",
       "         0.77562235,  0.9611397 ,  0.58606431, -0.07188637,  0.65038594,\n",
       "         0.17079802,  1.12676499,  0.44386512,  0.62276161,  0.2434142 ,\n",
       "         0.42723872,  0.35458479, -0.13618274,  0.62763117,  0.8316644 ]),\n",
       " array([ 0.57395605,  0.23887844,  1.05859792,  0.49736803, -0.10582265,\n",
       "         0.77562235,  0.9611397 ,  0.98606431,  0.32811363,  0.25038594,\n",
       "         0.57079802,  1.12676499,  0.84386512,  0.62276161,  0.6434142 ,\n",
       "         0.02723872,  0.35458479, -0.13618274,  1.02763117,  0.4316644 ]),\n",
       " array([ 0.97395605,  0.63887844,  0.65859792,  0.89736803,  0.29417735,\n",
       "         1.17562235,  0.5611397 ,  0.58606431, -0.07188637,  0.65038594,\n",
       "         0.17079802,  0.72676499,  0.44386512,  1.02276161,  0.2434142 ,\n",
       "         0.42723872,  0.75458479,  0.26381726,  0.62763117,  0.8316644 ]),\n",
       " array([0.57395605, 0.23887844, 1.05859792, 0.89736803, 0.29417735,\n",
       "        1.17562235, 0.9611397 , 0.98606431, 0.32811363, 0.25038594,\n",
       "        0.57079802, 0.72676499, 0.44386512, 1.02276161, 0.2434142 ,\n",
       "        0.42723872, 0.35458479, 0.26381726, 0.62763117, 0.8316644 ]),\n",
       " array([ 0.97395605,  0.63887844,  0.65859792,  0.49736803, -0.10582265,\n",
       "         0.77562235,  0.5611397 ,  0.58606431, -0.07188637,  0.65038594,\n",
       "         0.17079802,  1.12676499,  0.84386512,  0.62276161,  0.6434142 ,\n",
       "         0.02723872,  0.75458479, -0.13618274,  1.02763117,  0.4316644 ]),\n",
       " array([ 0.97395605,  0.63887844,  0.65859792,  0.49736803,  0.29417735,\n",
       "         1.17562235,  0.9611397 ,  0.58606431,  0.32811363,  0.65038594,\n",
       "         0.17079802,  0.72676499,  0.84386512,  0.62276161,  0.6434142 ,\n",
       "         0.02723872,  0.75458479, -0.13618274,  0.62763117,  0.4316644 ]),\n",
       " array([ 0.57395605,  0.23887844,  1.05859792,  0.89736803, -0.10582265,\n",
       "         0.77562235,  0.5611397 ,  0.98606431, -0.07188637,  0.25038594,\n",
       "         0.57079802,  1.12676499,  0.44386512,  1.02276161,  0.2434142 ,\n",
       "         0.42723872,  0.35458479,  0.26381726,  1.02763117,  0.8316644 ]),\n",
       " array([ 0.97395605,  0.23887844,  1.05859792,  0.89736803, -0.10582265,\n",
       "         1.17562235,  0.5611397 ,  0.58606431,  0.32811363,  0.25038594,\n",
       "         0.57079802,  0.72676499,  0.84386512,  0.62276161,  0.6434142 ,\n",
       "         0.42723872,  0.75458479, -0.13618274,  0.62763117,  0.4316644 ]),\n",
       " array([ 0.57395605,  0.63887844,  0.65859792,  0.49736803,  0.29417735,\n",
       "         0.77562235,  0.9611397 ,  0.98606431, -0.07188637,  0.65038594,\n",
       "         0.17079802,  1.12676499,  0.44386512,  1.02276161,  0.2434142 ,\n",
       "         0.02723872,  0.35458479,  0.26381726,  1.02763117,  0.8316644 ]),\n",
       " array([ 0.57395605,  0.23887844,  0.65859792,  0.89736803, -0.10582265,\n",
       "         0.77562235,  0.9611397 ,  0.98606431, -0.07188637,  0.65038594,\n",
       "         0.17079802,  1.12676499,  0.84386512,  0.62276161,  0.6434142 ,\n",
       "         0.42723872,  0.35458479, -0.13618274,  1.02763117,  0.8316644 ]),\n",
       " array([0.97395605, 0.63887844, 1.05859792, 0.49736803, 0.29417735,\n",
       "        1.17562235, 0.5611397 , 0.58606431, 0.32811363, 0.25038594,\n",
       "        0.57079802, 0.72676499, 0.44386512, 1.02276161, 0.2434142 ,\n",
       "        0.02723872, 0.75458479, 0.26381726, 0.62763117, 0.4316644 ]),\n",
       " array([0.57395605, 0.23887844, 0.65859792, 0.89736803, 0.29417735,\n",
       "        1.17562235, 0.9611397 , 0.58606431, 0.32811363, 0.25038594,\n",
       "        0.17079802, 0.72676499, 0.84386512, 0.62276161, 0.2434142 ,\n",
       "        0.02723872, 0.75458479, 0.26381726, 0.62763117, 0.8316644 ]),\n",
       " array([ 0.97395605,  0.63887844,  1.05859792,  0.49736803, -0.10582265,\n",
       "         0.77562235,  0.5611397 ,  0.98606431, -0.07188637,  0.65038594,\n",
       "         0.57079802,  1.12676499,  0.44386512,  1.02276161,  0.6434142 ,\n",
       "         0.42723872,  0.35458479, -0.13618274,  1.02763117,  0.4316644 ]),\n",
       " array([ 0.97395605,  0.63887844,  0.65859792,  0.49736803,  0.29417735,\n",
       "         0.77562235,  0.9611397 ,  0.58606431, -0.07188637,  0.65038594,\n",
       "         0.57079802,  1.12676499,  0.44386512,  0.62276161,  0.2434142 ,\n",
       "         0.02723872,  0.75458479, -0.13618274,  1.02763117,  0.8316644 ]),\n",
       " array([ 0.57395605,  0.23887844,  1.05859792,  0.89736803, -0.10582265,\n",
       "         1.17562235,  0.5611397 ,  0.98606431,  0.32811363,  0.25038594,\n",
       "         0.17079802,  0.72676499,  0.84386512,  1.02276161,  0.6434142 ,\n",
       "         0.42723872,  0.35458479,  0.26381726,  0.62763117,  0.4316644 ]),\n",
       " array([ 0.57395605,  0.23887844,  1.05859792,  0.49736803, -0.10582265,\n",
       "         0.77562235,  0.5611397 ,  0.98606431,  0.32811363,  0.65038594,\n",
       "         0.17079802,  0.72676499,  0.84386512,  1.02276161,  0.6434142 ,\n",
       "         0.02723872,  0.35458479,  0.26381726,  1.02763117,  0.4316644 ]),\n",
       " array([ 0.97395605,  0.63887844,  0.65859792,  0.89736803,  0.29417735,\n",
       "         1.17562235,  0.9611397 ,  0.58606431, -0.07188637,  0.25038594,\n",
       "         0.57079802,  1.12676499,  0.44386512,  0.62276161,  0.2434142 ,\n",
       "         0.42723872,  0.75458479, -0.13618274,  0.62763117,  0.8316644 ]),\n",
       " array([ 0.97395605,  0.23887844,  1.05859792,  0.89736803, -0.10582265,\n",
       "         1.17562235,  0.9611397 ,  0.98606431,  0.32811363,  0.65038594,\n",
       "         0.57079802,  1.12676499,  0.84386512,  0.62276161,  0.2434142 ,\n",
       "         0.42723872,  0.75458479, -0.13618274,  0.62763117,  0.4316644 ]),\n",
       " array([ 0.57395605,  0.63887844,  0.65859792,  0.49736803,  0.29417735,\n",
       "         0.77562235,  0.5611397 ,  0.58606431, -0.07188637,  0.25038594,\n",
       "         0.17079802,  0.72676499,  0.44386512,  1.02276161,  0.6434142 ,\n",
       "         0.02723872,  0.35458479,  0.26381726,  1.02763117,  0.8316644 ]),\n",
       " array([ 0.97395605,  0.63887844,  1.05859792,  0.89736803, -0.10582265,\n",
       "         1.17562235,  0.9611397 ,  0.98606431, -0.07188637,  0.65038594,\n",
       "         0.17079802,  1.12676499,  0.44386512,  1.02276161,  0.2434142 ,\n",
       "         0.02723872,  0.35458479, -0.13618274,  0.62763117,  0.4316644 ]),\n",
       " array([0.57395605, 0.23887844, 0.65859792, 0.49736803, 0.29417735,\n",
       "        0.77562235, 0.5611397 , 0.58606431, 0.32811363, 0.25038594,\n",
       "        0.57079802, 0.72676499, 0.84386512, 0.62276161, 0.6434142 ,\n",
       "        0.42723872, 0.75458479, 0.26381726, 1.02763117, 0.8316644 ]),\n",
       " array([ 0.57395605,  0.63887844,  0.65859792,  0.49736803, -0.10582265,\n",
       "         1.17562235,  0.9611397 ,  0.58606431,  0.32811363,  0.65038594,\n",
       "         0.57079802,  1.12676499,  0.84386512,  1.02276161,  0.6434142 ,\n",
       "         0.42723872,  0.75458479, -0.13618274,  1.02763117,  0.4316644 ]),\n",
       " array([ 0.97395605,  0.23887844,  1.05859792,  0.89736803,  0.29417735,\n",
       "         0.77562235,  0.5611397 ,  0.98606431, -0.07188637,  0.25038594,\n",
       "         0.17079802,  0.72676499,  0.44386512,  0.62276161,  0.2434142 ,\n",
       "         0.02723872,  0.35458479,  0.26381726,  0.62763117,  0.8316644 ]),\n",
       " array([ 0.57395605,  0.63887844,  1.05859792,  0.49736803, -0.10582265,\n",
       "         0.77562235,  0.5611397 ,  0.58606431, -0.07188637,  0.65038594,\n",
       "         0.17079802,  1.12676499,  0.44386512,  0.62276161,  0.6434142 ,\n",
       "         0.02723872,  0.75458479, -0.13618274,  1.02763117,  0.4316644 ]),\n",
       " array([0.97395605, 0.23887844, 0.65859792, 0.89736803, 0.29417735,\n",
       "        1.17562235, 0.9611397 , 0.98606431, 0.32811363, 0.25038594,\n",
       "        0.57079802, 0.72676499, 0.84386512, 1.02276161, 0.2434142 ,\n",
       "        0.42723872, 0.35458479, 0.26381726, 0.62763117, 0.8316644 ]),\n",
       " array([ 0.97395605,  0.23887844,  0.65859792,  0.49736803, -0.10582265,\n",
       "         0.77562235,  0.5611397 ,  0.98606431, -0.07188637,  0.65038594,\n",
       "         0.17079802,  1.12676499,  0.44386512,  0.62276161,  0.6434142 ,\n",
       "         0.02723872,  0.35458479, -0.13618274,  1.02763117,  0.4316644 ]),\n",
       " array([0.57395605, 0.63887844, 1.05859792, 0.89736803, 0.29417735,\n",
       "        1.17562235, 0.9611397 , 0.58606431, 0.32811363, 0.25038594,\n",
       "        0.57079802, 0.72676499, 0.84386512, 1.02276161, 0.2434142 ,\n",
       "        0.42723872, 0.75458479, 0.26381726, 0.62763117, 0.8316644 ]),\n",
       " array([ 0.57395605,  0.63887844,  1.05859792,  0.89736803, -0.10582265,\n",
       "         1.17562235,  0.5611397 ,  0.58606431,  0.32811363,  0.25038594,\n",
       "         0.17079802,  1.12676499,  0.84386512,  1.02276161,  0.6434142 ,\n",
       "         0.42723872,  0.35458479,  0.26381726,  1.02763117,  0.4316644 ]),\n",
       " array([ 0.97395605,  0.23887844,  0.65859792,  0.49736803,  0.29417735,\n",
       "         0.77562235,  0.9611397 ,  0.98606431, -0.07188637,  0.65038594,\n",
       "         0.57079802,  0.72676499,  0.44386512,  0.62276161,  0.2434142 ,\n",
       "         0.02723872,  0.75458479, -0.13618274,  0.62763117,  0.8316644 ]),\n",
       " array([0.57395605, 0.23887844, 0.65859792, 0.89736803, 0.29417735,\n",
       "        0.77562235, 0.5611397 , 0.58606431, 0.32811363, 0.25038594,\n",
       "        0.17079802, 1.12676499, 0.44386512, 0.62276161, 0.6434142 ,\n",
       "        0.42723872, 0.35458479, 0.26381726, 1.02763117, 0.8316644 ]),\n",
       " array([ 0.97395605,  0.63887844,  1.05859792,  0.49736803, -0.10582265,\n",
       "         1.17562235,  0.9611397 ,  0.98606431, -0.07188637,  0.65038594,\n",
       "         0.57079802,  0.72676499,  0.84386512,  1.02276161,  0.2434142 ,\n",
       "         0.02723872,  0.75458479, -0.13618274,  0.62763117,  0.4316644 ]),\n",
       " array([ 0.97395605,  0.23887844,  0.65859792,  0.89736803, -0.10582265,\n",
       "         0.77562235,  0.9611397 ,  0.58606431,  0.32811363,  0.25038594,\n",
       "         0.17079802,  0.72676499,  0.84386512,  0.62276161,  0.6434142 ,\n",
       "         0.42723872,  0.75458479, -0.13618274,  1.02763117,  0.4316644 ]),\n",
       " array([ 0.57395605,  0.63887844,  1.05859792,  0.49736803,  0.29417735,\n",
       "         1.17562235,  0.5611397 ,  0.98606431, -0.07188637,  0.65038594,\n",
       "         0.57079802,  1.12676499,  0.44386512,  1.02276161,  0.2434142 ,\n",
       "         0.02723872,  0.35458479,  0.26381726,  0.62763117,  0.8316644 ]),\n",
       " array([ 0.57395605,  0.63887844,  1.05859792,  0.89736803, -0.10582265,\n",
       "         0.77562235,  0.9611397 ,  0.58606431,  0.32811363,  0.25038594,\n",
       "         0.17079802,  0.72676499,  0.44386512,  0.62276161,  0.6434142 ,\n",
       "         0.42723872,  0.75458479, -0.13618274,  0.62763117,  0.4316644 ]),\n",
       " array([ 0.97395605,  0.23887844,  0.65859792,  0.49736803,  0.29417735,\n",
       "         1.17562235,  0.5611397 ,  0.98606431, -0.07188637,  0.65038594,\n",
       "         0.57079802,  1.12676499,  0.84386512,  1.02276161,  0.2434142 ,\n",
       "         0.02723872,  0.35458479,  0.26381726,  1.02763117,  0.8316644 ]),\n",
       " array([0.57395605, 0.63887844, 0.65859792, 0.89736803, 0.29417735,\n",
       "        0.77562235, 0.5611397 , 0.58606431, 0.32811363, 0.25038594,\n",
       "        0.57079802, 0.72676499, 0.44386512, 1.02276161, 0.6434142 ,\n",
       "        0.42723872, 0.35458479, 0.26381726, 0.62763117, 0.4316644 ]),\n",
       " array([ 0.97395605,  0.23887844,  1.05859792,  0.49736803, -0.10582265,\n",
       "         1.17562235,  0.9611397 ,  0.98606431, -0.07188637,  0.65038594,\n",
       "         0.17079802,  1.12676499,  0.84386512,  0.62276161,  0.2434142 ,\n",
       "         0.02723872,  0.75458479, -0.13618274,  1.02763117,  0.8316644 ]),\n",
       " array([ 0.57395605,  0.63887844,  0.65859792,  0.89736803, -0.10582265,\n",
       "         0.77562235,  0.5611397 ,  0.58606431,  0.32811363,  0.25038594,\n",
       "         0.57079802,  1.12676499,  0.84386512,  1.02276161,  0.6434142 ,\n",
       "         0.42723872,  0.75458479, -0.13618274,  0.62763117,  0.8316644 ]),\n",
       " array([ 0.97395605,  0.23887844,  1.05859792,  0.49736803,  0.29417735,\n",
       "         1.17562235,  0.9611397 ,  0.98606431, -0.07188637,  0.65038594,\n",
       "         0.17079802,  0.72676499,  0.44386512,  0.62276161,  0.2434142 ,\n",
       "         0.02723872,  0.35458479,  0.26381726,  1.02763117,  0.4316644 ]),\n",
       " array([ 0.97395605,  0.63887844,  0.65859792,  0.89736803,  0.29417735,\n",
       "         1.17562235,  0.9611397 ,  0.98606431, -0.07188637,  0.25038594,\n",
       "         0.17079802,  0.72676499,  0.44386512,  1.02276161,  0.2434142 ,\n",
       "         0.02723872,  0.75458479, -0.13618274,  1.02763117,  0.4316644 ]),\n",
       " array([ 0.57395605,  0.23887844,  1.05859792,  0.49736803, -0.10582265,\n",
       "         0.77562235,  0.5611397 ,  0.58606431,  0.32811363,  0.65038594,\n",
       "         0.57079802,  1.12676499,  0.84386512,  0.62276161,  0.6434142 ,\n",
       "         0.42723872,  0.35458479,  0.26381726,  0.62763117,  0.8316644 ]),\n",
       " array([ 0.57395605,  0.23887844,  0.65859792,  0.49736803, -0.10582265,\n",
       "         0.77562235,  0.9611397 ,  0.58606431,  0.32811363,  0.65038594,\n",
       "         0.57079802,  0.72676499,  0.84386512,  1.02276161,  0.6434142 ,\n",
       "         0.42723872,  0.75458479, -0.13618274,  1.02763117,  0.4316644 ]),\n",
       " array([ 0.97395605,  0.63887844,  1.05859792,  0.89736803,  0.29417735,\n",
       "         1.17562235,  0.5611397 ,  0.98606431, -0.07188637,  0.25038594,\n",
       "         0.17079802,  1.12676499,  0.44386512,  0.62276161,  0.2434142 ,\n",
       "         0.02723872,  0.35458479,  0.26381726,  0.62763117,  0.8316644 ]),\n",
       " array([ 0.57395605,  0.63887844,  1.05859792,  0.49736803,  0.29417735,\n",
       "         1.17562235,  0.5611397 ,  0.58606431, -0.07188637,  0.65038594,\n",
       "         0.17079802,  0.72676499,  0.84386512,  0.62276161,  0.6434142 ,\n",
       "         0.42723872,  0.35458479,  0.26381726,  1.02763117,  0.4316644 ]),\n",
       " array([ 0.97395605,  0.23887844,  0.65859792,  0.89736803, -0.10582265,\n",
       "         0.77562235,  0.9611397 ,  0.98606431,  0.32811363,  0.25038594,\n",
       "         0.57079802,  1.12676499,  0.44386512,  1.02276161,  0.2434142 ,\n",
       "         0.02723872,  0.75458479, -0.13618274,  0.62763117,  0.8316644 ]),\n",
       " array([ 1.23278441, -0.39290452,  0.02681496,  1.15619639, -0.36465101,\n",
       "         0.51679399,  1.59292266,  1.61784726,  0.58694199, -0.00844242,\n",
       "         1.20258098,  1.75854794,  0.18503676,  1.28158997, -0.01541416,\n",
       "        -0.23158964,  1.38636774, -0.39501111, -0.00415178,  1.46344736]),\n",
       " array([ 1.605739  , -0.01994992,  0.39976956,  1.52915099, -0.73760561,\n",
       "         0.1438394 ,  1.21996806,  1.24489267,  0.95989659, -0.38139702,\n",
       "         0.82962639,  1.38559335, -0.18791784,  1.65454457, -0.38836876,\n",
       "        -0.60454423,  1.01341315, -0.7679657 ,  0.36880281,  1.09049276]),\n",
       " array([ 1.34580494, -0.27988399, -0.21815438,  0.91122704, -0.47767154,\n",
       "         0.40377346,  1.47990213,  1.86281661,  0.69996252, -0.12146295,\n",
       "         1.44755033,  1.64552742,  0.43000611,  1.03662063, -0.12843469,\n",
       "        -0.34461017,  1.27334722, -0.50803163, -0.24912113,  1.7084167 ]),\n",
       " array([ 0.98781506, -0.63787387,  0.13983549,  1.26921692, -0.11968166,\n",
       "         0.76176334,  1.83789201,  1.50482673,  0.34197265,  0.23652693,\n",
       "         1.08956045,  2.00351729,  0.07201623,  1.3946105 ,  0.22955519,\n",
       "         0.01337971,  1.63133709, -0.15004176,  0.10886874,  1.35042683]),\n",
       " array([ 1.68874733, -0.28467943, -0.21335895,  0.91602248, -0.82061393,\n",
       "         0.06083107,  1.48469757,  2.205759  ,  1.04290491, -0.11666751,\n",
       "         1.44275489,  1.65032285,  0.7729485 ,  0.69367824, -0.12363925,\n",
       "        -0.33981473,  0.93040483, -0.85097402, -0.59206352,  1.70362127]),\n",
       " array([ 1.3410095 ,  0.0630584 , -0.56109677,  0.56828465, -0.4728761 ,\n",
       "         0.4085689 ,  1.13695974,  1.85802117,  0.69516709, -0.46440534,\n",
       "         1.79049272,  1.30258503,  0.42521067,  1.04141606, -0.47137708,\n",
       "        -0.68755255,  1.27814265, -0.5032362 , -0.2443257 ,  2.05135909]),\n",
       " array([ 1.40220193e+00,  1.86597406e-03, -8.39892687e-01,  2.89488740e-01,\n",
       "        -5.34068530e-01,  3.47376474e-01,  8.58163829e-01,  1.91921360e+00,\n",
       "         4.16371172e-01, -4.03212914e-01,  1.72930029e+00,  1.02378912e+00,\n",
       "         1.46414758e-01,  9.80223637e-01, -4.10184653e-01, -9.66348468e-01,\n",
       "         1.21695023e+00, -2.24440283e-01,  3.44702163e-02,  2.33015501e+00]),\n",
       " array([ 1.06221359,  0.34185431, -0.49990435,  0.62947708, -0.19408019,\n",
       "         0.68736481,  1.19815217,  1.57922526,  0.75635951, -0.74320125,\n",
       "         2.06928863,  1.36377745,  0.4864031 ,  1.32021198, -0.75017299,\n",
       "        -0.62636013,  1.55693857, -0.56442862, -0.30551812,  1.99016667]),\n",
       " array([ 0.9705789 ,  0.433489  , -0.74205458,  0.72111177, -0.43623043,\n",
       "         0.7789995 ,  0.95600193,  1.82137549,  0.51420928, -0.83483594,\n",
       "         1.8271384 ,  1.12162722,  0.57803779,  1.41184666, -0.50802276,\n",
       "        -0.53472544,  1.31478833, -0.65606331, -0.39715281,  1.89853198]),\n",
       " array([ 1.30436382,  0.09970408, -0.40826966,  0.38732684, -0.1024455 ,\n",
       "         0.44521458,  1.28978686,  1.48759057,  0.8479942 , -0.50105102,\n",
       "         2.16092332,  1.45541214,  0.24425286,  1.07806174, -0.84180768,\n",
       "        -0.86851036,  1.64857325, -0.32227839, -0.06336789,  2.2323169 ]),\n",
       " array([ 0.9845224 ,  0.0909171 , -0.39948268,  0.70716826, -0.42228692,\n",
       "         0.4364276 ,  1.29857383,  1.47880359,  0.52815278, -0.49226404,\n",
       "         2.1697103 ,  1.13557072,  0.23546588,  1.39790316, -0.85059466,\n",
       "        -0.54866894,  1.32873183, -0.31349141, -0.38320931,  2.24110388]),\n",
       " array([ 1.3131508 ,  0.4195455 , -0.72811108,  0.37853987, -0.09365852,\n",
       "         0.765056  ,  0.96994544,  1.80743199,  0.85678118, -0.82089244,\n",
       "         1.8410819 ,  1.46419912,  0.56409428,  1.06927476, -0.52196626,\n",
       "        -0.87729734,  1.65736023, -0.64211981, -0.05458091,  1.91247548]),\n",
       " array([ 1.31229001,  0.09445866, -0.40302424,  0.70362671, -0.09451932,\n",
       "         0.43996916,  0.97080623,  1.48234515,  0.85592038, -0.4958056 ,\n",
       "         2.16616874,  1.13911228,  0.23900744,  1.07013556, -0.8470531 ,\n",
       "        -0.5522105 ,  1.33227339, -0.31703297, -0.0554417 ,  2.23756232]),\n",
       " array([ 0.98806396,  0.41868471, -0.72725029,  0.37940066, -0.41874537,\n",
       "         0.76419521,  1.29503228,  1.8065712 ,  0.53169434, -0.82003165,\n",
       "         1.84194269,  1.46333833,  0.56323349,  1.3943616 , -0.52282705,\n",
       "        -0.87643655,  1.65649944, -0.64125902, -0.37966775,  1.91333627]),\n",
       " array([ 1.35312667,  0.37401387, -0.36218758,  0.74446337, -0.37407453,\n",
       "         0.71952437,  1.25036144,  1.44150849,  0.57636517, -0.77536081,\n",
       "         2.2070054 ,  1.09827562,  0.51856266,  1.34969077, -0.88788976,\n",
       "        -0.83176572,  1.29143673, -0.59658818, -0.33499692,  2.27839898]),\n",
       " array([ 1.03273479,  0.05362199, -0.68257945,  0.42407149, -0.05368265,\n",
       "         0.39913249,  0.92996957,  1.76190037,  0.89675705, -0.45496893,\n",
       "         1.88661353,  1.4186675 ,  0.19817078,  1.02929889, -0.56749789,\n",
       "        -0.51137384,  1.61182861, -0.2761963 , -0.01460504,  1.95800711]),\n",
       " array([ 1.36539133,  0.38627854, -0.34992291,  0.4397275 , -0.06933866,\n",
       "         0.4147885 ,  0.94562557,  1.42924383,  0.88110104, -0.47062494,\n",
       "         1.90226953,  1.08601095,  0.21382679,  1.0449549 , -0.90015443,\n",
       "        -0.52702985,  1.27917206, -0.29185231, -0.34726158,  1.97366312]),\n",
       " array([ 1.0483908 ,  0.069278  , -0.66692344,  0.75672803, -0.3863392 ,\n",
       "         0.73178904,  1.26262611,  1.74624436,  0.56410051, -0.78762548,\n",
       "         2.21927007,  1.40301149,  0.53082732,  1.36195543, -0.5831539 ,\n",
       "        -0.84403038,  1.5961726 , -0.60885285, -0.03026105,  2.29066365]),\n",
       " array([ 1.18857584,  0.20946305, -0.5267384 ,  0.61654299, -0.24615415,\n",
       "         0.59160399,  1.12244106,  1.60605932,  0.70428555, -0.64744043,\n",
       "         2.07908502,  1.26282644,  0.39064228,  1.22177039, -0.72333894,\n",
       "        -0.70384534,  1.45598755, -0.4686678 , -0.17044609,  2.15047861])]"
      ]
     },
     "execution_count": 15,
     "metadata": {},
     "output_type": "execute_result"
    }
   ],
   "source": [
    "weigth_history"
   ]
  },
  {
   "cell_type": "code",
   "execution_count": 16,
   "metadata": {},
   "outputs": [
    {
     "data": {
      "text/plain": [
       "array([ 0.57395605,  0.63887844,  0.65859792,  0.49736803, -0.10582265,\n",
       "        1.17562235,  0.9611397 ,  0.98606431,  0.32811363,  0.25038594,\n",
       "        0.17079802,  0.72676499,  0.84386512,  1.02276161,  0.6434142 ,\n",
       "        0.42723872,  0.75458479,  0.26381726,  1.02763117,  0.4316644 ])"
      ]
     },
     "execution_count": 16,
     "metadata": {},
     "output_type": "execute_result"
    }
   ],
   "source": [
    "weigth_history[0]"
   ]
  },
  {
   "cell_type": "code",
   "execution_count": 17,
   "metadata": {},
   "outputs": [
    {
     "data": {
      "text/plain": [
       "array([ 0.97395605,  0.23887844,  1.05859792,  0.89736803,  0.29417735,\n",
       "        1.17562235,  0.9611397 ,  0.58606431, -0.07188637,  0.25038594,\n",
       "        0.17079802,  0.72676499,  0.84386512,  0.62276161,  0.2434142 ,\n",
       "        0.02723872,  0.35458479,  0.26381726,  1.02763117,  0.8316644 ])"
      ]
     },
     "execution_count": 17,
     "metadata": {},
     "output_type": "execute_result"
    }
   ],
   "source": [
    "weigth_history[5]"
   ]
  },
  {
   "cell_type": "code",
   "execution_count": 18,
   "metadata": {},
   "outputs": [
    {
     "name": "stdout",
     "output_type": "stream",
     "text": [
      "a 7 pred [1.] y -1\n",
      "a 8 pred [1.] y -1\n",
      "a 9 pred [1.] y -1\n",
      "a 11 pred [1.] y -1\n",
      "a 13 pred [1.] y -1\n",
      "a 14 pred [1.] y -1\n",
      "a 15 pred [1.] y -1\n",
      "a 17 pred [1.] y -1\n",
      "a 18 pred [1.] y -1\n",
      "a 21 pred [1.] y -1\n",
      "a 22 pred [1.] y -1\n",
      "a 23 pred [1.] y -1\n",
      "a 24 pred [1.] y -1\n",
      "a 25 pred [1.] y -1\n",
      "a 30 pred [1.] y -1\n",
      "a 32 pred [1.] y -1\n",
      "a 34 pred [1.] y -1\n",
      "a 35 pred [-1.] y 1\n",
      "a 39 pred [1.] y -1\n",
      "a 40 pred [1.] y -1\n",
      "a 42 pred [1.] y -1\n",
      "a 43 pred [1.] y -1\n",
      "a 47 pred [1.] y -1\n",
      "a 48 pred [1.] y -1\n",
      "a 52 pred [1.] y -1\n",
      "a 53 pred [1.] y -1\n",
      "a 55 pred [1.] y -1\n",
      "a 56 pred [1.] y -1\n",
      "a 57 pred [1.] y -1\n",
      "a 58 pred [1.] y -1\n",
      "a 59 pred [1.] y -1\n",
      "a 60 pred [1.] y -1\n",
      "a 62 pred [1.] y -1\n",
      "a 65 pred [1.] y -1\n",
      "a 67 pred [1.] y -1\n",
      "a 71 pred [1.] y -1\n",
      "a 72 pred [1.] y -1\n",
      "a 76 pred [1.] y -1\n",
      "a 77 pred [1.] y -1\n",
      "a 78 pred [1.] y -1\n",
      "a 79 pred [1.] y -1\n",
      "a 81 pred [1.] y -1\n",
      "a 82 pred [1.] y -1\n",
      "a 85 pred [1.] y -1\n",
      "a 87 pred [1.] y -1\n",
      "a 88 pred [1.] y -1\n",
      "a 90 pred [-1.] y 1\n",
      "a 93 pred [1.] y -1\n",
      "a 99 pred [1.] y -1\n"
     ]
    }
   ],
   "source": [
    "n=0\n",
    "for a in range(100):\n",
    "   if(pred_y[a] == y[a]):\n",
    "    n+=1\n",
    "   else:\n",
    "    print(\"a\", a, \"pred\", pred_y[a], \"y\", y[a])\n"
   ]
  },
  {
   "cell_type": "code",
   "execution_count": 19,
   "metadata": {},
   "outputs": [
    {
     "data": {
      "text/plain": [
       "51"
      ]
     },
     "execution_count": 19,
     "metadata": {},
     "output_type": "execute_result"
    }
   ],
   "source": [
    "n"
   ]
  },
  {
   "cell_type": "code",
   "execution_count": 20,
   "metadata": {},
   "outputs": [
    {
     "name": "stdout",
     "output_type": "stream",
     "text": [
      "[-1.         -1.         -0.66666667  0.875       0.625      -0.625\n",
      " -1.         -1.         -1.         -1.          0.25        0.875\n",
      "  0.375       0.875      -1.         -1.         -1.         -0.4\n",
      "  1.         -0.25       -1.          0.25       -1.         -1.\n",
      " -1.         -0.27272727  1.          0.         -1.         -0.625\n",
      "  1.         -1.         -1.          1.          0.75       -0.625\n",
      " -1.         -0.5         0.77777778 -1.         -1.         -0.25\n",
      "  0.875      -0.875      -1.         -0.625       0.16666667 -1.\n",
      " -1.         -1.          0.75        0.375      -0.25        0.75\n",
      " -0.16666667 -1.         -1.         -1.         -0.27272727  0.5\n",
      "  0.84615385 -0.25       -1.         -1.        ]\n"
     ]
    }
   ],
   "source": [
    "print(X[8].reshape(64,))"
   ]
  },
  {
   "cell_type": "code",
   "execution_count": 21,
   "metadata": {},
   "outputs": [
    {
     "ename": "SyntaxError",
     "evalue": "EOF while scanning triple-quoted string literal (477170047.py, line 36)",
     "output_type": "error",
     "traceback": [
      "\u001b[1;36m  Input \u001b[1;32mIn [21]\u001b[1;36m\u001b[0m\n\u001b[1;33m    dataset_test_values[i+n_test] = dataset_train1[i]\u001b[0m\n\u001b[1;37m                                                     \n^\u001b[0m\n\u001b[1;31mSyntaxError\u001b[0m\u001b[1;31m:\u001b[0m EOF while scanning triple-quoted string literal\n"
     ]
    }
   ],
   "source": [
    "\"\"\"\n",
    "n_test = 10\n",
    "sample_total, training_input, test_input, class_labels = digits.load(classes=[0, 1],\n",
    "                                                                     training_size=40,\n",
    "                                                                      test_size=10,\n",
    "                                                                      random_seed=seed)\n",
    "\n",
    "    \n",
    "dataset_train0 = training_input[0]\n",
    "print(dataset_train0.shape)\n",
    "dataset_train1 = training_input[1]\n",
    "print(dataset_train1.shape)\n",
    "dataset_train_labels = np.zeros(80)\n",
    "dataset_train_values = np.zeros((80,64))\n",
    "for i in range(40):\n",
    "    dataset_train_labels[i] = 0\n",
    "    dataset_train_values[i] = dataset_train0[i]\n",
    "for i in range(40):\n",
    "    dataset_train_labels[i+40] = 1\n",
    "    dataset_train_values[i+40] = dataset_train1[i]\n",
    "num_inputs = len(training_input[class_labels[0]][0])\n",
    "n_qubits = int(np.ceil(np.log2(num_inputs)))\n",
    "\n",
    "dataset_test0 = test_input[0]\n",
    "print(dataset_test0.shape)\n",
    "dataset_test1 = test_input[1]\n",
    "print(dataset_test1.shape)\n",
    "dataset_test_labels = np.zeros(2*n_test)\n",
    "dataset_test_values = np.zeros((2*n_test,64))\n",
    "\n",
    "for i in range(n_test):\n",
    "    dataset_test_labels[i] = 0\n",
    "    dataset_test_values[i] = dataset_train0[i]\n",
    "for i in range(n_test):\n",
    "    dataset_test_labels[i+n_test] = 1\n",
    "    dataset_test_values[i+n_test] = dataset_train1[i]"
   ]
  },
  {
   "cell_type": "code",
   "execution_count": null,
   "metadata": {},
   "outputs": [],
   "source": [
    "\"\"\"\n",
    "\"def run_experiment(max_F_loss = 0):\n",
    "    hamiltonian = I^I^I^I^I^I^I^Z^I\n",
    "    feature_map = FeatureVector(n_qubits, num_inputs, BaaLowRankInitialize, opt_params={'max_fidelity_loss':max_F_loss, 'strategy': 'brute_force', 'use_low_rank': True})\n",
    "    ansatz = WeightlessNN9qubits()\n",
    "    qr = QuantumRegister(9)\n",
    "    qc = QuantumCircuit(qr)\n",
    "    qc.append(feature_map, [0,1,2,3,4,5])\n",
    "    qc.append(ansatz, [0,1,2,3,4,5,6,7,8])\n",
    "    qc.draw('mpl')\n",
    "    quantum_instance = QuantumInstance(Aer.get_backend(\"aer_simulator\"), shots=1024)\n",
    "    qnn_expectation = StateFn(hamiltonian, is_measurement=True) @ StateFn(qc)\n",
    "    qnn = OpflowQNN(qnn_expectation, \n",
    "                    input_params=list(feature_map.parameters), \n",
    "                    weight_params=list(ansatz.parameters),\n",
    "                    exp_val=PauliExpectation(),\n",
    "                    gradient=Gradient(),  \n",
    "                    quantum_instance=quantum_instance)\n",
    "    opflow_classifier = NeuralNetworkClassifier(qnn, optimizer=COBYLA(maxiter=50), callback=callback_graph)\n",
    "    # create empty array for callback to store evaluations of the objective function\n",
    "    objective_func_vals = []\n",
    "    plt.rcParams[\"figure.figsize\"] = (12, 6)\n",
    "\n",
    "    # fit classifier to data\n",
    "    opflow_classifier.fit(dataset_train_values, dataset_train_labels)\n",
    "\n",
    "    # return to default figsize\n",
    "    plt.rcParams[\"figure.figsize\"] = (6, 4)\n",
    "\n",
    "    # score classifier\n",
    "    print(opflow_classifier.score(dataset_test_values, dataset_test_labels))"
   ]
  }
 ],
 "metadata": {
  "kernelspec": {
   "display_name": "Python 3 (ipykernel)",
   "language": "python",
   "name": "python3"
  },
  "language_info": {
   "codemirror_mode": {
    "name": "ipython",
    "version": 3
   },
   "file_extension": ".py",
   "mimetype": "text/x-python",
   "name": "python",
   "nbconvert_exporter": "python",
   "pygments_lexer": "ipython3",
   "version": "3.9.12"
  },
  "vscode": {
   "interpreter": {
    "hash": "916dbcbb3f70747c44a77c7bcd40155683ae19c65e1c03b4aa3499c5328201f1"
   }
  }
 },
 "nbformat": 4,
 "nbformat_minor": 2
}
